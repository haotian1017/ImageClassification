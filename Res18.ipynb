{
 "cells": [
  {
   "cell_type": "markdown",
   "metadata": {},
   "source": [
    "**Function for windowing**"
   ]
  },
  {
   "cell_type": "code",
   "execution_count": 14,
   "metadata": {},
   "outputs": [],
   "source": [
    "def get_first_of_dicom_field_as_int(x):\n",
    "    #get x[0] as in int is x is a 'pydicom.multival.MultiValue', otherwise get int(x)\n",
    "        if type(x) == dicom.multival.MultiValue:\n",
    "            return int(x[0])\n",
    "        else:\n",
    "            return int(x)\n",
    "def get_windowing(data):\n",
    "        dicom_fields = [data[('0028','1050')].value, #window center\n",
    "                        data[('0028','1051')].value, #window width\n",
    "                        data[('0028','1052')].value, #intercept\n",
    "                        data[('0028','1053')].value] #slope\n",
    "        return [get_first_of_dicom_field_as_int(x) for x in dicom_fields]\n",
    "def window_image(img, window_center,window_width, intercept, slope, rescale=True):\n",
    "\n",
    "        img = (img*slope +intercept)\n",
    "        img_min = window_center - window_width//2\n",
    "        img_max = window_center + window_width//2\n",
    "        img[img<img_min] = img_min\n",
    "        img[img>img_max] = img_max\n",
    "\n",
    "        if rescale:\n",
    "            # Extra rescaling to 0-1, not in the original notebook\n",
    "            img = (img - img_min) / (img_max - img_min)\n",
    "\n",
    "        return img\n"
   ]
  },
  {
   "cell_type": "code",
   "execution_count": 15,
   "metadata": {},
   "outputs": [],
   "source": [
    "import torch\n",
    "import torch.nn as nn\n",
    "import torch.optim as optim\n",
    "import torch.nn.functional as F\n",
    "import matplotlib.pyplot as plt\n",
    "from torch.utils.data import Dataset, DataLoader\n",
    "import pandas as pd\n",
    "import numpy as np\n",
    "import os\n",
    "import torch\n",
    "from torchvision import transforms\n",
    "import torchvision.models as models\n",
    "import pydicom as dicom\n",
    "import copy\n",
    "\n",
    "train_transform = transforms.Compose([\n",
    "        transforms.ToPILImage(),\n",
    "        transforms.RandomResizedCrop(896),\n",
    "        transforms.RandomHorizontalFlip(),\n",
    "        transforms.ToTensor(),\n",
    "        transforms.Normalize([0.485, 0.456, 0.406], [0.229, 0.224, 0.225])])\n",
    "\n",
    "validation_transform = transforms.Compose([\n",
    "        transforms.ToPILImage(),\n",
    "        transforms.CenterCrop(896),\n",
    "        transforms.ToTensor(),\n",
    "        transforms.Normalize([0.485, 0.456, 0.406], [0.229, 0.224, 0.225])])\n",
    "\n",
    "class BrainCTDataset_ResNet(Dataset):\n",
    "    \n",
    "    def __init__(self, csv_file, root_dir,transform=None,get_windowing=get_windowing,\n",
    "                 get_first_of_dicom_field_as_int=get_first_of_dicom_field_as_int,\n",
    "                 window_image=window_image):\n",
    "        \"\"\"\n",
    "        Args:\n",
    "            csv_file (string): Path to the csv file filename information.\n",
    "            root_dir (string): Directory with all the images.\n",
    "            transform (callable, optional): Optional transform to be applied\n",
    "                on a sample.\n",
    "        \"\"\"\n",
    "        self.data_frame = pd.read_csv(csv_file)\n",
    "        self.root_dir = root_dir\n",
    "        self.transform = transform\n",
    "        self.get_windowing=get_windowing\n",
    "        self.transform = transform\n",
    "        self.window_image=window_image\n",
    "        \n",
    "    def __len__(self):\n",
    "        return len(self.data_frame)\n",
    "\n",
    "    def __getitem__(self, idx):\n",
    "        \n",
    "        \n",
    "\n",
    "        data=self.data_frame\n",
    "        \n",
    "        \n",
    "        data=self.data_frame\n",
    "\n",
    "        img_name = '/scratch/hg1580/rsna-intracranial-hemorrhage-detection/stage_2_train/'+data.iloc[idx, 2]\n",
    "        \n",
    "        image = dicom.read_file(img_name)\n",
    "        window_center , window_width, intercept, slope = get_windowing(image)\n",
    "\n",
    "        img2 = window_image(image.pixel_array, 40, 80, intercept, slope)  \n",
    "        img3 = window_image(image.pixel_array, 80, 200, intercept, slope)\n",
    "        img4 = window_image(image.pixel_array, 600, 2800, intercept, slope)\n",
    "        image = torch.Tensor(np.array([img2, img3, img4,]))\n",
    "            \n",
    "        image_class = data.iloc[idx, -1]\n",
    "        \n",
    "\n",
    "        if self.transform:\n",
    "            image = self.transform(image)\n",
    "        \n",
    "        sample = {'x': image, 'y': image_class}\n",
    "            \n",
    "        return sample"
   ]
  },
  {
   "cell_type": "markdown",
   "metadata": {},
   "source": [
    "**Model ResNet18**"
   ]
  },
  {
   "cell_type": "code",
   "execution_count": 6,
   "metadata": {},
   "outputs": [],
   "source": [
    "if torch.cuda.is_available:\n",
    "    device=torch.device('cuda')\n",
    "else:\n",
    "    device=torch.device('cpu')\n",
    "\n",
    "resnet18=models.resnet18()\n",
    "\n",
    "fc_in_features = resnet18.fc.in_features\n",
    "resnet18.fc = torch.nn.Linear(fc_in_features, 2)\n",
    "res=resnet18.to(device)"
   ]
  },
  {
   "cell_type": "code",
   "execution_count": 25,
   "metadata": {},
   "outputs": [],
   "source": [
    "import time\n",
    "from PIL import Image\n",
    "train_df_path = '/scratch/hg1580/kaggle/stage1_train.csv'\n",
    "val_df_path = '/scratch/hg1580/kaggle/stage1_valid.csv'\n",
    "test_df_path='/scratch/hg1580/kaggle/stage1_test.csv'\n",
    "transformed_dataset = {'train': BrainCTDataset_ResNet(train_df_path,'./HW2/images/'), \\\n",
    "                       'validate':BrainCTDataset_ResNet(val_df_path,'./HW2/images/'), \\\n",
    "                      'test': BrainCTDataset_ResNet(test_df_path,'./HW2/images/')}\n",
    "bs = 10\n",
    "dataloader = {x: DataLoader(transformed_dataset[x], batch_size=bs, shuffle=True, num_workers=0) \\\n",
    "              for x in ['train', 'validate','test']}\n",
    "data_sizes ={x: len(transformed_dataset[x]) for x in ['train', 'validate','test']}\n",
    "optimizer = torch.optim.Adam(res.parameters(), lr=0.01)\n",
    "criterion = nn.CrossEntropyLoss()"
   ]
  },
  {
   "cell_type": "code",
   "execution_count": null,
   "metadata": {},
   "outputs": [],
   "source": []
  },
  {
   "cell_type": "code",
   "execution_count": 17,
   "metadata": {},
   "outputs": [],
   "source": [
    "\n",
    "def train_model(model, dataloader, optimizer, loss_fn, num_epochs = 10, verbose = False, scheduler=None):\n",
    "    acc_dict = {'train':[],'validate':[]}\n",
    "    loss_dict = {'train':[],'validate':[]}\n",
    "    best_acc = 0\n",
    "    phases = ['train','validate']\n",
    "    since = time.time()\n",
    "    for i in range(num_epochs):\n",
    "        print('Epoch: {}/{}'.format(i, num_epochs-1))\n",
    "        print('-'*10)\n",
    "        for p in phases:\n",
    "            running_correct = 0\n",
    "            running_loss = 0\n",
    "            running_total = 0\n",
    "            if p == 'train':\n",
    "                model.train()\n",
    "            else:\n",
    "                model.eval()\n",
    "                \n",
    "            for data in dataloader[p]:\n",
    "                optimizer.zero_grad()\n",
    "                image = data['x'].to(device,dtype=torch.float)\n",
    "                label = data['y'].to(device,dtype=torch.long)\n",
    "                output = model(image)\n",
    "                loss = loss_fn(output, label)\n",
    "                _, preds = torch.max(output, dim = 1)\n",
    "                num_imgs = image.size()[0]\n",
    "                running_correct += torch.sum(preds ==label).item()\n",
    "                running_loss += loss.item()*num_imgs\n",
    "                running_total += num_imgs\n",
    "                if p== 'train':\n",
    "                    loss.backward()\n",
    "                    optimizer.step()\n",
    "            epoch_acc = float(running_correct/running_total)\n",
    "            epoch_loss = float(running_loss/running_total)\n",
    "            if verbose or (i%10 == 0):\n",
    "                print('Phase:{}, epoch loss: {:.4f} Acc: {:.4f}'.format(p, epoch_loss, epoch_acc))\n",
    "            \n",
    "            acc_dict[p].append(epoch_acc)\n",
    "            loss_dict[p].append(epoch_loss)\n",
    "            if p == 'validate':\n",
    "                if epoch_acc > best_acc:\n",
    "                    best_acc = epoch_acc\n",
    "                    best_model_wts = copy.deepcopy(model.state_dict())\n",
    "            else:\n",
    "                if scheduler:\n",
    "                    scheduler.step()\n",
    "    time_elapsed = time.time() - since\n",
    "    print('Training complete in {:.0f}m {:.0f}s'.format(time_elapsed // 60, time_elapsed % 60))\n",
    "    print('Best val acc: {:4f}'.format(best_acc))\n",
    "    \n",
    "    model.load_state_dict(best_model_wts)\n",
    "    \n",
    "    return model, acc_dict, loss_dict"
   ]
  },
  {
   "cell_type": "code",
   "execution_count": 18,
   "metadata": {},
   "outputs": [
    {
     "name": "stdout",
     "output_type": "stream",
     "text": [
      "Epoch: 0/9\n",
      "----------\n",
      "Phase:train, epoch loss: 0.5321 Acc: 0.7189\n",
      "Phase:validate, epoch loss: 0.6220 Acc: 0.7171\n",
      "Epoch: 1/9\n",
      "----------\n",
      "Phase:train, epoch loss: 0.3940 Acc: 0.8186\n",
      "Phase:validate, epoch loss: 0.2391 Acc: 0.9189\n",
      "Epoch: 2/9\n",
      "----------\n",
      "Phase:train, epoch loss: 0.3430 Acc: 0.8480\n",
      "Phase:validate, epoch loss: 0.2767 Acc: 0.8952\n",
      "Epoch: 3/9\n",
      "----------\n",
      "Phase:train, epoch loss: 0.3090 Acc: 0.8656\n",
      "Phase:validate, epoch loss: 0.2224 Acc: 0.9208\n",
      "Epoch: 4/9\n",
      "----------\n",
      "Phase:train, epoch loss: 0.2838 Acc: 0.8785\n",
      "Phase:validate, epoch loss: 0.2891 Acc: 0.8901\n",
      "Epoch: 5/9\n",
      "----------\n",
      "Phase:train, epoch loss: 0.2571 Acc: 0.8912\n",
      "Phase:validate, epoch loss: 0.2018 Acc: 0.9300\n",
      "Epoch: 6/9\n",
      "----------\n",
      "Phase:train, epoch loss: 0.2333 Acc: 0.9026\n",
      "Phase:validate, epoch loss: 0.2192 Acc: 0.9225\n",
      "Epoch: 7/9\n",
      "----------\n",
      "Phase:train, epoch loss: 0.2059 Acc: 0.9156\n",
      "Phase:validate, epoch loss: 0.3350 Acc: 0.8763\n",
      "Epoch: 8/9\n",
      "----------\n",
      "Phase:train, epoch loss: 0.1783 Acc: 0.9268\n",
      "Phase:validate, epoch loss: 0.2986 Acc: 0.8947\n",
      "Epoch: 9/9\n",
      "----------\n",
      "Phase:train, epoch loss: 0.1496 Acc: 0.9400\n",
      "Phase:validate, epoch loss: 0.2726 Acc: 0.9090\n",
      "Training complete in 429m 49s\n",
      "Best val acc: 0.930022\n"
     ]
    }
   ],
   "source": [
    "model,acc_dict,loss_dict=train_model(res,dataloader,optimizer,criterion,num_epochs=10,verbose=True)\n"
   ]
  },
  {
   "cell_type": "code",
   "execution_count": 19,
   "metadata": {},
   "outputs": [],
   "source": [
    "torch.save(model.state_dict(),'/scratch/hg1580/kaggle/resnet_best.pickle')"
   ]
  },
  {
   "cell_type": "code",
   "execution_count": 20,
   "metadata": {},
   "outputs": [],
   "source": [
    "torch.save((acc_dict,loss_dict),'/scratch/hg1580/kaggle/resnet_acc_loss.pickle')\n",
    "\n"
   ]
  },
  {
   "cell_type": "code",
   "execution_count": 28,
   "metadata": {},
   "outputs": [],
   "source": [
    "with torch.no_grad():\n",
    "                running_correct = 0\n",
    "                running_loss = 0\n",
    "                running_total = 0\n",
    "                soft=nn.Softmax(dim=1)\n",
    "                probs=[]\n",
    "                truth=[]\n",
    "\n",
    "                for data in dataloader['test']:\n",
    "                    model.eval()\n",
    "                    optimizer.zero_grad()\n",
    "                    image = data['x'].to(device,dtype=torch.float)\n",
    "                    label = data['y'].to(device,dtype=torch.long)\n",
    "                    output = model(image)\n",
    "                    prob=soft(output).T[1]\n",
    "                    probs+=prob.to('cpu').tolist()\n",
    "                    truth +=label.to('cpu').tolist()\n",
    "                    loss = criterion(output, label)\n",
    "                    _, preds = torch.max(output, dim = 1)\n",
    "                    num_imgs = image.size()[0]\n",
    "                    running_correct += torch.sum(preds ==label).item()\n",
    "                    running_loss += loss.item()*num_imgs\n",
    "                    running_total += num_imgs\n",
    "                    \n",
    "                epoch_acc = float(running_correct/running_total)\n",
    "                epoch_loss = float(running_loss/running_total)"
   ]
  },
  {
   "cell_type": "code",
   "execution_count": 31,
   "metadata": {},
   "outputs": [],
   "source": [
    "import matplotlib\n",
    "import matplotlib.pyplot as plt\n",
    "import sklearn.linear_model \n",
    "from sklearn.svm import SVC\n",
    "from sklearn.metrics import roc_curve, auc\n",
    "%matplotlib inline"
   ]
  },
  {
   "cell_type": "code",
   "execution_count": 32,
   "metadata": {},
   "outputs": [],
   "source": [
    "def plotUnivariateROC(preds, truth, label_string):\n",
    "    fpr, tpr, thresholds = roc_curve(truth, preds)\n",
    "    roc_auc = auc(fpr, tpr)\n",
    "\n",
    "    if roc_auc < 0.5:\n",
    "        fpr, tpr, thresholds = roc_curve(truth, -1 * preds)\n",
    "        roc_auc = auc(fpr, tpr)\n",
    "\n",
    "    c = (np.random.rand(), np.random.rand(), np.random.rand())\n",
    "\n",
    "    plt.plot(fpr, tpr, color = c, label = label_string + ' (AUC = %0.3f)' % roc_auc)\n",
    "    \n",
    "\n",
    "    plt.plot([0, 1], [0, 1], 'k--')\n",
    "    plt.xlim([0.0, 1.0])\n",
    "    plt.ylim([0.0, 1.0])\n",
    "    plt.xlabel('FPR')\n",
    "    plt.ylabel('TPR')\n",
    "    plt.title('ROC')\n",
    "    plt.legend(loc=\"lower right\")\n",
    "    \n",
    "    return roc_auc"
   ]
  },
  {
   "cell_type": "code",
   "execution_count": 33,
   "metadata": {},
   "outputs": [
    {
     "data": {
      "text/plain": [
       "0.9292031956546906"
      ]
     },
     "execution_count": 33,
     "metadata": {},
     "output_type": "execute_result"
    },
    {
     "data": {
      "image/png": "[encoded data removed]",
      "text/plain": [
       "<Figure size 864x432 with 1 Axes>"
      ]
     },
     "metadata": {
      "needs_background": "light"
     },
     "output_type": "display_data"
    }
   ],
   "source": [
    "fig = plt.figure(figsize = (12, 6))\n",
    "ax = plt.subplot(111)\n",
    "plotUnivariateROC(probs, truth, 'ResNet18')"
   ]
  }
 ],
 "metadata": {
  "kernelspec": {
   "display_name": "Python 3",
   "language": "python",
   "name": "python3"
  },
  "language_info": {
   "codemirror_mode": {
    "name": "ipython",
    "version": 3
   },
   "file_extension": ".py",
   "mimetype": "text/x-python",
   "name": "python",
   "nbconvert_exporter": "python",
   "pygments_lexer": "ipython3",
   "version": "3.7.3"
  }
 },
 "nbformat": 4,
 "nbformat_minor": 2
}
