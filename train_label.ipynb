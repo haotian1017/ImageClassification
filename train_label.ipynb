{
 "cells": [
  {
   "cell_type": "code",
   "execution_count": 0,
   "metadata": {
    "colab": {},
    "colab_type": "code",
    "id": "rWzciVD0-LHj"
   },
   "outputs": [],
   "source": [
    "import pandas as pd\n",
    "import numpy as np\n",
    "import os\n",
    "import io"
   ]
  },
  {
   "cell_type": "markdown",
   "metadata": {
    "colab_type": "text",
    "id": "grYjoIer3SjC"
   },
   "source": [
    "**Deleting images with wrong format**"
   ]
  },
  {
   "cell_type": "code",
   "execution_count": null,
   "metadata": {},
   "outputs": [],
   "source": [
    "celebData = \"/scratch/hg1580/rsna-intracranial-hemorrhage-detection/stage_2_train/\"\n",
    "images = os.listdir(celebData)\n",
    "imageList = images[:1500]"
   ]
  },
  {
   "cell_type": "code",
   "execution_count": null,
   "metadata": {},
   "outputs": [],
   "source": [
    "delet=[]\n",
    "for i in images:\n",
    "    try:\n",
    "        im=io.imread(\"/scratch/hg1580/rsna-intracranial-hemorrhage-detection/stage_2_train/\"+i)\n",
    "        if im.shape!=(512,512):\n",
    "            delet.append(i)\n",
    "    except:\n",
    "        delet.append(i)"
   ]
  },
  {
   "cell_type": "code",
   "execution_count": 0,
   "metadata": {
    "colab": {},
    "colab_type": "code",
    "id": "k3AfnOdvJix6"
   },
   "outputs": [],
   "source": [
    "delet=['ID_942e2f95b.dcm', 'ID_3cb1b59bc.dcm', 'ID_0e9ac1c5f.dcm', 'ID_d77fa1286.dcm', 'ID_142f85eb8.dcm', 'ID_ae1689e1b.dcm', 'ID_7607dbd07.dcm', 'ID_8144c7120.dcm', 'ID_8fd6d5047.dcm', 'ID_830f46cad.dcm', 'ID_842e85173.dcm', 'ID_8756b0c04.dcm', 'ID_49ecc6164.dcm', 'ID_a9ab8569f.dcm', 'ID_64b44f180.dcm', 'ID_61c646098.dcm', 'ID_c45659d3d.dcm', 'ID_f0d55b727.dcm', 'ID_ea2861e9a.dcm', 'ID_1690a6499.dcm', 'ID_17103c79e.dcm', 'ID_b77ba3355.dcm', 'ID_37c495912.dcm', 'ID_3274f5977.dcm', 'ID_9dad2eb09.dcm', 'ID_8fc348d44.dcm', 'ID_394ffb5fd.dcm', 'ID_184c541fa.dcm', 'ID_3eb407dd8.dcm', 'ID_12a0d6d34.dcm', 'ID_c35d5c858.dcm', 'ID_046ba342c.dcm', 'ID_55f7bbbf2.dcm', 'ID_85900eb84.dcm', 'ID_362423b57.dcm', 'ID_c64131283.dcm', 'ID_f188940f9.dcm', 'ID_c60e34466.dcm', 'ID_91c508c7a.dcm', 'ID_28c4609b3.dcm', 'ID_b76de950b.dcm', 'ID_d6435f3bf.dcm', 'ID_8fde47d9f.dcm', 'ID_d1a1c9a6c.dcm', 'ID_6dcedd2e1.dcm', 'ID_f242fed92.dcm', 'ID_c6bbec638.dcm', 'ID_3ba8a116c.dcm', 'ID_bd4f3f06f.dcm', 'ID_97cd49666.dcm', 'ID_ced5fabca.dcm', 'ID_f23f8e617.dcm', 'ID_6508563e0.dcm', 'ID_081f4d071.dcm', 'ID_a880e377e.dcm', 'ID_a356248db.dcm', 'ID_b9938c32c.dcm', 'ID_94463e98f.dcm', 'ID_4f0317d23.dcm', 'ID_23d0b13b7.dcm', 'ID_c2738e8b1.dcm', 'ID_5dbe845c1.dcm', 'ID_ae7b11865.dcm', 'ID_75d691728.dcm', 'ID_ff012ee5b.dcm', 'ID_d7777de78.dcm', 'ID_cec3997fa.dcm', 'ID_291edd834.dcm', 'ID_d4ea87a35.dcm', 'ID_176e4f16d.dcm', 'ID_ac47ba810.dcm', 'ID_b8665a653.dcm', 'ID_6d7a27643.dcm', 'ID_10f34fb10.dcm', 'ID_19306ecc5.dcm', 'ID_451f60160.dcm', 'ID_72dce7784.dcm', 'ID_ae7020fd1.dcm', 'ID_21053fe7e.dcm', 'ID_c6f2d84be.dcm', 'ID_dfaa49f5c.dcm', 'ID_9da128021.dcm', 'ID_3dcbd1b5e.dcm', 'ID_af129aa8e.dcm', 'ID_15b3ba199.dcm', 'ID_3bc141392.dcm', 'ID_53c71fb9d.dcm', 'ID_a432727fd.dcm', 'ID_76f88846f.dcm', 'ID_9a3bba619.dcm', 'ID_8a35660d5.dcm', 'ID_f145c3cf4.dcm', 'ID_fd5c41761.dcm', 'ID_b76b13444.dcm', 'ID_bc97a5f4f.dcm', 'ID_91b9ce430.dcm', 'ID_3f422852d.dcm', 'ID_7940bb7d0.dcm', 'ID_11c4f9f91.dcm', 'ID_b494c2115.dcm', 'ID_e4b636907.dcm', 'ID_44d57858e.dcm', 'ID_c037d5727.dcm', 'ID_845f922f4.dcm', 'ID_ba7080372.dcm', 'ID_a7e689932.dcm', 'ID_d3b76ef6e.dcm', 'ID_09aeb0bbd.dcm', 'ID_c1a3f037f.dcm', 'ID_66accd2e4.dcm', 'ID_c11582dc9.dcm', 'ID_631f0b556.dcm', 'ID_cade293be.dcm', 'ID_b194d2a23.dcm', 'ID_ab474037b.dcm', 'ID_b966185b8.dcm', 'ID_950a06268.dcm', 'ID_22069463a.dcm', 'ID_b1cea5abb.dcm', 'ID_8dc299456.dcm', 'ID_155b9c546.dcm', 'ID_882cd57de.dcm', 'ID_a3feeadf4.dcm', 'ID_798d956d0.dcm', 'ID_f1fe5334e.dcm', 'ID_079945c27.dcm', 'ID_f4891876d.dcm', 'ID_5bf2ca43f.dcm', 'ID_dabc2a818.dcm', 'ID_5ffae2e26.dcm', 'ID_97e5a203e.dcm', 'ID_4e61fb0b2.dcm', 'ID_66131f4c9.dcm', 'ID_0b2ec2d3f.dcm', 'ID_f22730d7b.dcm', 'ID_04280250b.dcm', 'ID_898ff55b6.dcm', 'ID_57d6a6455.dcm', 'ID_807b56a94.dcm', 'ID_2e690fe7c.dcm', 'ID_dd083e12a.dcm', 'ID_a40f9b2de.dcm', 'ID_6fbc30b5d.dcm', 'ID_fe7327fab.dcm', 'ID_9b68c3f5f.dcm', 'ID_8f5d4b696.dcm', 'ID_73dee8958.dcm', 'ID_3d5d23058.dcm', 'ID_2fd4dda7c.dcm', 'ID_f03370d7c.dcm', 'ID_6c19c9f7b.dcm', 'ID_abcd58e88.dcm', 'ID_6a939bc17.dcm', 'ID_6cc19ac41.dcm', 'ID_1bc5771a7.dcm', 'ID_5ab140176.dcm', 'ID_61d2718d2.dcm', 'ID_445a92ac2.dcm', 'ID_75cbdae68.dcm', 'ID_567a36143.dcm', 'ID_a23a8193f.dcm', 'ID_6f92e4481.dcm', 'ID_b4adf8739.dcm', 'ID_c65ca5466.dcm', 'ID_ea0ddbaf9.dcm', 'ID_7e756c43b.dcm', 'ID_2ac7f01ed.dcm', 'ID_68e45bca7.dcm', 'ID_317330708.dcm', 'ID_ac39010dc.dcm', 'ID_1291d1943.dcm', 'ID_9a36e4b0e.dcm', 'ID_12e3b6923.dcm', 'ID_0603b315e.dcm', 'ID_9cdc7295b.dcm', 'ID_36ab2e72a.dcm', 'ID_53f460f86.dcm', 'ID_be3fb6c17.dcm', 'ID_60a1f0e24.dcm', 'ID_bb2a4a01c.dcm', 'ID_10fe2031e.dcm', 'ID_80a2dbc4a.dcm', 'ID_4e0bdd2ba.dcm', 'ID_3d7a23dbb.dcm', 'ID_56ecdf5c1.dcm', 'ID_0b0e59911.dcm', 'ID_a2e178cc7.dcm', 'ID_d1b2d9ad0.dcm', 'ID_4c9fb82af.dcm', 'ID_19f266244.dcm', 'ID_d3fd5220e.dcm', 'ID_88b0d8b4f.dcm', 'ID_21d4bd6f3.dcm', 'ID_9b297fa83.dcm', 'ID_d7229490a.dcm', 'ID_de10fdac2.dcm', 'ID_0144e4030.dcm', 'ID_f698edc00.dcm', 'ID_1e633cf27.dcm', 'ID_a2f9ba4bf.dcm', 'ID_038f966b9.dcm', 'ID_6b1a86148.dcm', 'ID_1bb3b44c7.dcm', 'ID_3e60e696d.dcm', 'ID_a1bb9bc26.dcm', 'ID_7c08b7fb7.dcm', 'ID_7e870621c.dcm', 'ID_dd3b5bf4e.dcm', 'ID_9ece1bb21.dcm', 'ID_8c5fc9e44.dcm', 'ID_0f8aa5749.dcm', 'ID_9bc2b62cc.dcm', 'ID_0e1861e6d.dcm', 'ID_d1afb9750.dcm', 'ID_def2a0e9f.dcm', 'ID_0c4987103.dcm', 'ID_25de55880.dcm', 'ID_767c42624.dcm', 'ID_69974dd3e.dcm', 'ID_676b0cb59.dcm', 'ID_8caa68ebd.dcm', 'ID_a3128aa77.dcm', 'ID_82ec3b736.dcm', 'ID_6cb797177.dcm', 'ID_cb970c6dc.dcm', 'ID_c4575f13b.dcm', 'ID_3e31d57d0.dcm', 'ID_b19f52c76.dcm', 'ID_fdbfb2c17.dcm', 'ID_ca9462f49.dcm', 'ID_403b4fc67.dcm', 'ID_7917d368d.dcm', 'ID_dfa4e344a.dcm', 'ID_cbbb50e6d.dcm', 'ID_ca4a832a1.dcm', 'ID_c51cbe76b.dcm', 'ID_db48a633d.dcm', 'ID_aef6c6df9.dcm', 'ID_d9840380c.dcm', 'ID_155249efa.dcm', 'ID_985fb5e49.dcm', 'ID_18aac96c0.dcm', 'ID_c964e4096.dcm', 'ID_6b15a7649.dcm', 'ID_6431af929.dcm', 'ID_680b2194c.dcm', 'ID_8d0ca7742.dcm', 'ID_cef2af72d.dcm', 'ID_c6463f07d.dcm', 'ID_4e14d0fe8.dcm', 'ID_f4c2157d8.dcm', 'ID_ae691dd29.dcm', 'ID_28d6a694f.dcm', 'ID_7a02fdbea.dcm', 'ID_b055aafa9.dcm', 'ID_3c8b72361.dcm', 'ID_ff9674e53.dcm', 'ID_d0c52575a.dcm', 'ID_0de0ab1d8.dcm', 'ID_c07d2cb73.dcm', 'ID_27757c171.dcm', 'ID_b12bb2b16.dcm', 'ID_a9e98ab5e.dcm', 'ID_7714ead69.dcm', 'ID_c1ff9eb46.dcm', 'ID_cf4d76860.dcm', 'ID_2b3671dd9.dcm', 'ID_ac1d14c29.dcm', 'ID_75e3f7e5a.dcm', 'ID_191369dca.dcm']\n"
   ]
  },
  {
   "cell_type": "code",
   "execution_count": 0,
   "metadata": {
    "colab": {},
    "colab_type": "code",
    "id": "tE6gt5AW3R3d"
   },
   "outputs": [],
   "source": [
    "for i in delet:\n",
    "  stage1=stage1[stage1['ID']!=i]\n",
    "  stage2=stage2[stage2['ID']!=i]"
   ]
  },
  {
   "cell_type": "code",
   "execution_count": 0,
   "metadata": {
    "colab": {},
    "colab_type": "code",
    "id": "7R2gKfeZ3r0u"
   },
   "outputs": [],
   "source": [
    "stage1_sample=pd.concat([stage1_0.sample(n=100000),stage1_1.sample(n=50000)],ignore_index=0).sample(frac=1)\n",
    "s=stage1_sample.index.tolist()\n",
    "stage2_sample=stage2.loc[s]"
   ]
  },
  {
   "cell_type": "code",
   "execution_count": 0,
   "metadata": {
    "colab": {
     "base_uri": "https://localhost:8080/",
     "height": 34
    },
    "colab_type": "code",
    "id": "sYwnFkID33fO",
    "outputId": "690cd6d4-f360-4f82-fafb-2322d4c321a6"
   },
   "outputs": [
    {
     "data": {
      "text/plain": [
       "(150000, 4)"
      ]
     },
     "execution_count": 12,
     "metadata": {
      "tags": []
     },
     "output_type": "execute_result"
    }
   ],
   "source": [
    "stage1_sample.shape"
   ]
  },
  {
   "cell_type": "code",
   "execution_count": 0,
   "metadata": {
    "colab": {},
    "colab_type": "code",
    "id": "f5lkAdMV7Uhm"
   },
   "outputs": [],
   "source": [
    "from sklearn.model_selection import train_test_split\n",
    "\n",
    "#stage1_train,stage1_test=train_test_split(stage1_sample,test_size=0.4,train_size=0.6)"
   ]
  },
  {
   "cell_type": "code",
   "execution_count": 0,
   "metadata": {
    "colab": {},
    "colab_type": "code",
    "id": "yR5sLHqrEOb0"
   },
   "outputs": [],
   "source": [
    "stage1_valid, stage1_tes=train_test_split(stage1_test,test_size=0.5)"
   ]
  },
  {
   "cell_type": "code",
   "execution_count": 0,
   "metadata": {
    "colab": {
     "base_uri": "https://localhost:8080/",
     "height": 34
    },
    "colab_type": "code",
    "id": "_xh8UqbWEa5q",
    "outputId": "0af58046-f85a-47d6-cb38-4130a36dcf42"
   },
   "outputs": [
    {
     "data": {
      "text/plain": [
       "(30000, 4)"
      ]
     },
     "execution_count": 19,
     "metadata": {
      "tags": []
     },
     "output_type": "execute_result"
    }
   ],
   "source": [
    "stage1_valid.shape"
   ]
  },
  {
   "cell_type": "code",
   "execution_count": 0,
   "metadata": {
    "colab": {},
    "colab_type": "code",
    "id": "wu-QzoFMErp1"
   },
   "outputs": [],
   "source": [
    "stage2_train,stage2_test=train_test_split(stage2_sample,test_size=0.4,train_size=0.6)\n",
    "stage2_valid, stage2_tes=train_test_split(stage2_test,test_size=0.5)"
   ]
  },
  {
   "cell_type": "code",
   "execution_count": 0,
   "metadata": {
    "colab": {},
    "colab_type": "code",
    "id": "j1p6bn8RE-m3"
   },
   "outputs": [],
   "source": [
    "stage1_test.to_csv('/content/drive/My Drive/IH_Project/stage1_test.csv')\n",
    "stage1_valid.to_csv('/content/drive/My Drive/IH_Project/stage1_valid.csv')\n",
    "stage1_train.to_csv('/content/drive/My Drive/IH_Project/stage1_train.csv')\n",
    "stage2_test.to_csv('/content/drive/My Drive/IH_Project/stage2_test.csv')\n",
    "stage2_valid.to_csv('/content/drive/My Drive/IH_Project/stage2_valid.csv')\n",
    "stage2_train.to_csv('/content/drive/My Drive/IH_Project/stage2_train.csv')"
   ]
  },
  {
   "cell_type": "code",
   "execution_count": 0,
   "metadata": {
    "colab": {
     "base_uri": "https://localhost:8080/",
     "height": 34
    },
    "colab_type": "code",
    "id": "byTEwCVnGM6W",
    "outputId": "ac6c9fbf-0c29-4f15-b7c3-3e31c2f4ff4a"
   },
   "outputs": [
    {
     "data": {
      "text/plain": [
       "(30000, 4)"
      ]
     },
     "execution_count": 22,
     "metadata": {
      "tags": []
     },
     "output_type": "execute_result"
    }
   ],
   "source": []
  },
  {
   "cell_type": "markdown",
   "metadata": {
    "colab_type": "text",
    "id": "Z7zZmI-fIWu7"
   },
   "source": [
    "**metadata**"
   ]
  },
  {
   "cell_type": "code",
   "execution_count": 0,
   "metadata": {
    "colab": {},
    "colab_type": "code",
    "id": "Zkg2CQd5Ge3v"
   },
   "outputs": [],
   "source": [
    "meta=pd.read_csv('train_metadata.csv')"
   ]
  },
  {
   "cell_type": "code",
   "execution_count": 0,
   "metadata": {
    "colab": {},
    "colab_type": "code",
    "id": "qSLg-NreJGki"
   },
   "outputs": [],
   "source": [
    "meta.shape\n",
    "delet1=[]\n",
    "for i in delet:\n",
    "  delet1.append(i.split('.')[0])"
   ]
  },
  {
   "cell_type": "code",
   "execution_count": 0,
   "metadata": {
    "colab": {
     "base_uri": "https://localhost:8080/",
     "height": 343
    },
    "colab_type": "code",
    "id": "7Lt8Sc7CJJYO",
    "outputId": "e94c5379-1df5-4d80-8f1a-662b597fed78"
   },
   "outputs": [
    {
     "data": {
      "text/html": [
       "<div>\n",
       "<style scoped>\n",
       "    .dataframe tbody tr th:only-of-type {\n",
       "        vertical-align: middle;\n",
       "    }\n",
       "\n",
       "    .dataframe tbody tr th {\n",
       "        vertical-align: top;\n",
       "    }\n",
       "\n",
       "    .dataframe thead th {\n",
       "        text-align: right;\n",
       "    }\n",
       "</style>\n",
       "<table border=\"1\" class=\"dataframe\">\n",
       "  <thead>\n",
       "    <tr style=\"text-align: right;\">\n",
       "      <th></th>\n",
       "      <th>Unnamed: 0</th>\n",
       "      <th>BitsAllocated</th>\n",
       "      <th>BitsStored</th>\n",
       "      <th>HighBit</th>\n",
       "      <th>ImageOrientationPatient</th>\n",
       "      <th>ImagePositionPatient</th>\n",
       "      <th>Modality</th>\n",
       "      <th>PatientID</th>\n",
       "      <th>PhotometricInterpretation</th>\n",
       "      <th>PixelRepresentation</th>\n",
       "      <th>PixelSpacing</th>\n",
       "      <th>RescaleIntercept</th>\n",
       "      <th>RescaleSlope</th>\n",
       "      <th>SOPInstanceUID</th>\n",
       "      <th>SamplesPerPixel</th>\n",
       "      <th>SeriesInstanceUID</th>\n",
       "      <th>StudyID</th>\n",
       "      <th>StudyInstanceUID</th>\n",
       "      <th>WindowCenter</th>\n",
       "      <th>WindowWidth</th>\n",
       "    </tr>\n",
       "  </thead>\n",
       "  <tbody>\n",
       "    <tr>\n",
       "      <th>0</th>\n",
       "      <td>0</td>\n",
       "      <td>16</td>\n",
       "      <td>16</td>\n",
       "      <td>15</td>\n",
       "      <td>['1.000000', '0.000000', '0.000000', '0.000000...</td>\n",
       "      <td>['-125.000', '-123.101', '104.307']</td>\n",
       "      <td>CT</td>\n",
       "      <td>ID_b81a287f</td>\n",
       "      <td>MONOCHROME2</td>\n",
       "      <td>1</td>\n",
       "      <td>['0.488281', '0.488281']</td>\n",
       "      <td>-1024.0</td>\n",
       "      <td>1.0</td>\n",
       "      <td>ID_231d901c1</td>\n",
       "      <td>1</td>\n",
       "      <td>ID_15dcd6057a</td>\n",
       "      <td>NaN</td>\n",
       "      <td>ID_dd37ba3adb</td>\n",
       "      <td>40</td>\n",
       "      <td>100</td>\n",
       "    </tr>\n",
       "    <tr>\n",
       "      <th>1</th>\n",
       "      <td>1</td>\n",
       "      <td>16</td>\n",
       "      <td>12</td>\n",
       "      <td>11</td>\n",
       "      <td>['1', '0', '0', '0', '0.933580426', '-0.358367...</td>\n",
       "      <td>['-125', '53.6282216', '223.572015']</td>\n",
       "      <td>CT</td>\n",
       "      <td>ID_400facde</td>\n",
       "      <td>MONOCHROME2</td>\n",
       "      <td>0</td>\n",
       "      <td>['0.48828125', '0.48828125']</td>\n",
       "      <td>-1024.0</td>\n",
       "      <td>1.0</td>\n",
       "      <td>ID_994bc0470</td>\n",
       "      <td>1</td>\n",
       "      <td>ID_4ba12c2161</td>\n",
       "      <td>NaN</td>\n",
       "      <td>ID_c5277f0c63</td>\n",
       "      <td>['00047', '00047']</td>\n",
       "      <td>['00080', '00080']</td>\n",
       "    </tr>\n",
       "    <tr>\n",
       "      <th>2</th>\n",
       "      <td>2</td>\n",
       "      <td>16</td>\n",
       "      <td>16</td>\n",
       "      <td>15</td>\n",
       "      <td>['1.000000', '0.000000', '0.000000', '0.000000...</td>\n",
       "      <td>['-125.000000', '-123.646240', '124.321068']</td>\n",
       "      <td>CT</td>\n",
       "      <td>ID_42910d3d</td>\n",
       "      <td>MONOCHROME2</td>\n",
       "      <td>1</td>\n",
       "      <td>['0.488281', '0.488281']</td>\n",
       "      <td>-1024.0</td>\n",
       "      <td>1.0</td>\n",
       "      <td>ID_127689cce</td>\n",
       "      <td>1</td>\n",
       "      <td>ID_c4b4931314</td>\n",
       "      <td>NaN</td>\n",
       "      <td>ID_db93ade25b</td>\n",
       "      <td>30</td>\n",
       "      <td>80</td>\n",
       "    </tr>\n",
       "    <tr>\n",
       "      <th>3</th>\n",
       "      <td>3</td>\n",
       "      <td>16</td>\n",
       "      <td>12</td>\n",
       "      <td>11</td>\n",
       "      <td>['1', '0', '0', '0', '1', '0']</td>\n",
       "      <td>['-114', '-6', '171.999939']</td>\n",
       "      <td>CT</td>\n",
       "      <td>ID_329aafa7</td>\n",
       "      <td>MONOCHROME2</td>\n",
       "      <td>0</td>\n",
       "      <td>['0.4453125', '0.4453125']</td>\n",
       "      <td>-1024.0</td>\n",
       "      <td>1.0</td>\n",
       "      <td>ID_25457734a</td>\n",
       "      <td>1</td>\n",
       "      <td>ID_116558f409</td>\n",
       "      <td>NaN</td>\n",
       "      <td>ID_8dd6d32f3b</td>\n",
       "      <td>['00036', '00036']</td>\n",
       "      <td>['00080', '00080']</td>\n",
       "    </tr>\n",
       "    <tr>\n",
       "      <th>4</th>\n",
       "      <td>4</td>\n",
       "      <td>16</td>\n",
       "      <td>12</td>\n",
       "      <td>11</td>\n",
       "      <td>['1', '0', '0', '0', '1', '0']</td>\n",
       "      <td>['-115', '-1', '230.5']</td>\n",
       "      <td>CT</td>\n",
       "      <td>ID_6b544c3c</td>\n",
       "      <td>MONOCHROME2</td>\n",
       "      <td>0</td>\n",
       "      <td>['0.44921875', '0.44921875']</td>\n",
       "      <td>-1024.0</td>\n",
       "      <td>1.0</td>\n",
       "      <td>ID_81c9aa125</td>\n",
       "      <td>1</td>\n",
       "      <td>ID_f56d7bd0f9</td>\n",
       "      <td>NaN</td>\n",
       "      <td>ID_2685c5d5c0</td>\n",
       "      <td>['00036', '00036']</td>\n",
       "      <td>['00080', '00080']</td>\n",
       "    </tr>\n",
       "  </tbody>\n",
       "</table>\n",
       "</div>"
      ],
      "text/plain": [
       "   Unnamed: 0  BitsAllocated  ...        WindowCenter         WindowWidth\n",
       "0           0             16  ...                  40                 100\n",
       "1           1             16  ...  ['00047', '00047']  ['00080', '00080']\n",
       "2           2             16  ...                  30                  80\n",
       "3           3             16  ...  ['00036', '00036']  ['00080', '00080']\n",
       "4           4             16  ...  ['00036', '00036']  ['00080', '00080']\n",
       "\n",
       "[5 rows x 20 columns]"
      ]
     },
     "execution_count": 8,
     "metadata": {
      "tags": []
     },
     "output_type": "execute_result"
    }
   ],
   "source": [
    "meta.head()"
   ]
  },
  {
   "cell_type": "code",
   "execution_count": 0,
   "metadata": {
    "colab": {},
    "colab_type": "code",
    "id": "gKQGIgc8nc9l"
   },
   "outputs": [],
   "source": [
    "for i in delet1:\n",
    "  meta=meta[meta['SOPInstanceUID']!=i]\n"
   ]
  },
  {
   "cell_type": "code",
   "execution_count": 0,
   "metadata": {
    "colab": {
     "base_uri": "https://localhost:8080/",
     "height": 34
    },
    "colab_type": "code",
    "id": "I8KRGiCzoK2w",
    "outputId": "cdf6c3a7-bd6b-44ce-cde0-fa2373002a43"
   },
   "outputs": [
    {
     "data": {
      "text/plain": [
       "(673988, 20)"
      ]
     },
     "execution_count": 12,
     "metadata": {
      "tags": []
     },
     "output_type": "execute_result"
    }
   ],
   "source": [
    "meta.shape"
   ]
  },
  {
   "cell_type": "markdown",
   "metadata": {},
   "source": [
    "**Splitting data into 3 folds**"
   ]
  },
  {
   "cell_type": "code",
   "execution_count": 0,
   "metadata": {
    "colab": {},
    "colab_type": "code",
    "id": "saNcWX-PJNB6"
   },
   "outputs": [],
   "source": [
    "total=meta.groupby('PatientID').SOPInstanceUID.nunique().reset_index()"
   ]
  },
  {
   "cell_type": "code",
   "execution_count": 0,
   "metadata": {
    "colab": {
     "base_uri": "https://localhost:8080/",
     "height": 34
    },
    "colab_type": "code",
    "id": "6DANQxpdJkoh",
    "outputId": "31cc144e-24a9-4287-80bb-5b215c2d8169"
   },
   "outputs": [
    {
     "data": {
      "text/plain": [
       "(5450, 2)"
      ]
     },
     "execution_count": 14,
     "metadata": {
      "tags": []
     },
     "output_type": "execute_result"
    }
   ],
   "source": [
    "fold_keep=total.sample(n=5450,random_state=2020)\n",
    "fold_keep.shape"
   ]
  },
  {
   "cell_type": "code",
   "execution_count": 0,
   "metadata": {
    "colab": {
     "base_uri": "https://localhost:8080/",
     "height": 34
    },
    "colab_type": "code",
    "id": "86HwemAzJ9Zt",
    "outputId": "d3b39263-3519-4901-8a22-0038af43f6de"
   },
   "outputs": [
    {
     "data": {
      "text/plain": [
       "215998"
      ]
     },
     "execution_count": 15,
     "metadata": {
      "tags": []
     },
     "output_type": "execute_result"
    }
   ],
   "source": [
    "sum(fold_keep.SOPInstanceUID)"
   ]
  },
  {
   "cell_type": "markdown",
   "metadata": {},
   "source": [
    "**Train, validation, test split and downsampling**"
   ]
  },
  {
   "cell_type": "code",
   "execution_count": 0,
   "metadata": {
    "colab": {},
    "colab_type": "code",
    "id": "-2HwkVnyKV5w"
   },
   "outputs": [],
   "source": [
    "trainID,rest=train_test_split(fold_keep,test_size=0.14)\n",
    "validID,testID=train_test_split(rest,test_size=0.5)\n"
   ]
  },
  {
   "cell_type": "code",
   "execution_count": 0,
   "metadata": {
    "colab": {},
    "colab_type": "code",
    "id": "NPU4PUE8OSiA"
   },
   "outputs": [],
   "source": [
    "trainsop=pd.DataFrame(np.zeros((1,len(meta.columns))),columns=meta.columns)\n",
    "for i in trainID['PatientID']:\n",
    "  sop=meta[meta['PatientID']==i]\n",
    "  trainsop=trainsop.append(sop)\n"
   ]
  },
  {
   "cell_type": "code",
   "execution_count": 0,
   "metadata": {
    "colab": {},
    "colab_type": "code",
    "id": "mUnfmi0DOVNO"
   },
   "outputs": [],
   "source": [
    "testsop=pd.DataFrame(np.zeros((1,len(meta.columns))),columns=meta.columns)\n",
    "validsop=testsop.copy()\n",
    "for i in validID['PatientID']:\n",
    "  sop=meta[meta['PatientID']==i]\n",
    "  validsop=validsop.append(sop)\n",
    "for i in testID['PatientID']:\n",
    "  sop=meta[meta['PatientID']==i]\n",
    "  testsop=testsop.append(sop)"
   ]
  },
  {
   "cell_type": "code",
   "execution_count": 0,
   "metadata": {
    "colab": {},
    "colab_type": "code",
    "id": "aqFRzRywJ8W9"
   },
   "outputs": [],
   "source": [
    "trainsop=trainsop.drop(0)\n",
    "validsop=validsop.drop(0)\n",
    "testsop=testsop.drop(0)"
   ]
  },
  {
   "cell_type": "code",
   "execution_count": 0,
   "metadata": {
    "colab": {},
    "colab_type": "code",
    "id": "adMjCxsZOwak"
   },
   "outputs": [],
   "source": [
    "tid=[]\n",
    "for j in trainsop.SOPInstanceUID:\n",
    "  tid.append(j+'.dcm')\n",
    "vid=[]\n",
    "for j in validsop.SOPInstanceUID:\n",
    "  vid.append(j+'.dcm')\n",
    "testid=[]\n",
    "for j in testsop.SOPInstanceUID:\n",
    "  testid.append(j+'.dcm')"
   ]
  },
  {
   "cell_type": "code",
   "execution_count": 0,
   "metadata": {
    "colab": {},
    "colab_type": "code",
    "id": "zpIdhnDl0j1Q"
   },
   "outputs": [],
   "source": [
    "stage1=pd.read_csv('train_label_stage1.csv')\n",
    "stage2=pd.read_csv('train_label_stage2.csv')"
   ]
  },
  {
   "cell_type": "code",
   "execution_count": 0,
   "metadata": {
    "colab": {},
    "colab_type": "code",
    "id": "I0l4UJtqtuLB"
   },
   "outputs": [],
   "source": [
    "stage1.index=stage1.ID\n",
    "stage2.index=stage2.ID"
   ]
  },
  {
   "cell_type": "code",
   "execution_count": 0,
   "metadata": {
    "colab": {},
    "colab_type": "code",
    "id": "A0vew2RfNtL2"
   },
   "outputs": [],
   "source": [
    "stage1_training=stage1.loc[tid]"
   ]
  },
  {
   "cell_type": "code",
   "execution_count": 0,
   "metadata": {
    "colab": {},
    "colab_type": "code",
    "id": "ngsRKsPyN9vd"
   },
   "outputs": [],
   "source": [
    "stage1_validation=stage1.loc[vid]\n",
    "stage1_testing=stage1.loc[testid]"
   ]
  },
  {
   "cell_type": "code",
   "execution_count": 0,
   "metadata": {
    "colab": {
     "base_uri": "https://localhost:8080/",
     "height": 34
    },
    "colab_type": "code",
    "id": "WC5vw3GwpHHU",
    "outputId": "239a9ee9-eaa0-4a36-c07b-373801d36132"
   },
   "outputs": [
    {
     "data": {
      "text/plain": [
       "(15219, 4)"
      ]
     },
     "execution_count": 27,
     "metadata": {
      "tags": []
     },
     "output_type": "execute_result"
    }
   ],
   "source": [
    "stage1_training.y.value_counts()\n",
    "stage1_validation.shape"
   ]
  },
  {
   "cell_type": "code",
   "execution_count": 0,
   "metadata": {
    "colab": {},
    "colab_type": "code",
    "id": "iz4YdUKPZowB"
   },
   "outputs": [],
   "source": [
    "stage2_training=stage2.loc[tid]\n",
    "stage2_validation=stage2.loc[vid]\n",
    "stage2_testing=stage2.loc[testid]"
   ]
  },
  {
   "cell_type": "code",
   "execution_count": 0,
   "metadata": {
    "colab": {},
    "colab_type": "code",
    "id": "d_FVgxvuaZSF"
   },
   "outputs": [],
   "source": [
    "stage1_0=stage1_training[stage1_training['y']==0]\n",
    "stage1_1=stage1_training[stage1_training['y']==1]"
   ]
  },
  {
   "cell_type": "code",
   "execution_count": 0,
   "metadata": {
    "colab": {},
    "colab_type": "code",
    "id": "Cx_rJT-fsA_o"
   },
   "outputs": [],
   "source": [
    "stage1_training1=pd.concat([stage1_0[0:43470],stage1_1]).sample(frac=1)"
   ]
  },
  {
   "cell_type": "code",
   "execution_count": 0,
   "metadata": {
    "colab": {},
    "colab_type": "code",
    "id": "gZvptB0xzpHU"
   },
   "outputs": [],
   "source": [
    "s2=np.array(stage1_training1.index).tolist()\n",
    "stage2_training1=stage2_training.loc[s2]"
   ]
  },
  {
   "cell_type": "code",
   "execution_count": 0,
   "metadata": {
    "colab": {
     "base_uri": "https://localhost:8080/",
     "height": 34
    },
    "colab_type": "code",
    "id": "GRyHFw1m0JYI",
    "outputId": "3ae8016e-ee93-457a-c453-146c4ca4ac50"
   },
   "outputs": [
    {
     "data": {
      "text/plain": [
       "(70246, 9)"
      ]
     },
     "execution_count": 33,
     "metadata": {
      "tags": []
     },
     "output_type": "execute_result"
    }
   ],
   "source": [
    "stage2_training1.shape"
   ]
  },
  {
   "cell_type": "code",
   "execution_count": 0,
   "metadata": {
    "colab": {},
    "colab_type": "code",
    "id": "_whuenMIanC-"
   },
   "outputs": [],
   "source": [
    "stage1_training1.index=range(stage1_training1.shape[0])\n",
    "stage1_validation.index=range(stage1_validation.shape[0])\n",
    "stage1_testing.index=range(stage1_testing.shape[0])\n",
    "stage2_training1.index=range(stage2_training1.shape[0])\n",
    "stage2_validation.index=range(stage2_validation.shape[0])\n",
    "stage2_testing.index=range(stage2_testing.shape[0])"
   ]
  },
  {
   "cell_type": "code",
   "execution_count": 0,
   "metadata": {
    "colab": {
     "base_uri": "https://localhost:8080/",
     "height": 34
    },
    "colab_type": "code",
    "id": "XBdSVlErZG_i",
    "outputId": "13877aac-e86a-4e7b-e6fa-35ff5f778749"
   },
   "outputs": [
    {
     "data": {
      "text/plain": [
       "'ID_d066ce23c.dcm'"
      ]
     },
     "execution_count": 49,
     "metadata": {
      "tags": []
     },
     "output_type": "execute_result"
    }
   ],
   "source": [
    "stage1_training.iloc[0,1]"
   ]
  },
  {
   "cell_type": "code",
   "execution_count": 0,
   "metadata": {
    "colab": {},
    "colab_type": "code",
    "id": "mvbdEA0fZ9Lf"
   },
   "outputs": [],
   "source": [
    "stage1_testing.to_csv('/content/drive/My Drive/IH_Project/stage1_test.csv')\n",
    "stage1_validation.to_csv('/content/drive/My Drive/IH_Project/stage1_valid.csv')\n",
    "stage1_training1.to_csv('/content/drive/My Drive/IH_Project/stage1_train.csv')\n",
    "stage2_testing.to_csv('/content/drive/My Drive/IH_Project/stage2_test.csv')\n",
    "stage2_validation.to_csv('/content/drive/My Drive/IH_Project/stage2_valid.csv')\n",
    "stage2_training1.to_csv('/content/drive/My Drive/IH_Project/stage2_train.csv')"
   ]
  },
  {
   "cell_type": "code",
   "execution_count": 0,
   "metadata": {
    "colab": {},
    "colab_type": "code",
    "id": "eM4ue5Vym9Gt"
   },
   "outputs": [],
   "source": []
  }
 ],
 "metadata": {
  "colab": {
   "collapsed_sections": [],
   "name": "train_label.ipynb",
   "provenance": []
  },
  "kernelspec": {
   "display_name": "Python 3",
   "language": "python",
   "name": "python3"
  },
  "language_info": {
   "codemirror_mode": {
    "name": "ipython",
    "version": 3
   },
   "file_extension": ".py",
   "mimetype": "text/x-python",
   "name": "python",
   "nbconvert_exporter": "python",
   "pygments_lexer": "ipython3",
   "version": "3.7.3"
  }
 },
 "nbformat": 4,
 "nbformat_minor": 1
}
